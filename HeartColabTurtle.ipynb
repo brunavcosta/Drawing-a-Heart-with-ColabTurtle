{
  "nbformat": 4,
  "nbformat_minor": 0,
  "metadata": {
    "colab": {
      "provenance": []
    },
    "kernelspec": {
      "name": "python3",
      "display_name": "Python 3"
    },
    "language_info": {
      "name": "python"
    }
  },
  "cells": [
    {
      "cell_type": "markdown",
      "source": [],
      "metadata": {
        "id": "u5-YjTQ2IkpY"
      }
    },
    {
      "cell_type": "code",
      "execution_count": 1,
      "metadata": {
        "colab": {
          "base_uri": "https://localhost:8080/"
        },
        "id": "H1W3gMtOEjUG",
        "outputId": "6f627847-350a-408c-ee90-473dd2c0d0bc"
      },
      "outputs": [
        {
          "output_type": "stream",
          "name": "stdout",
          "text": [
            "Collecting ColabTurtle\n",
            "  Downloading ColabTurtle-2.1.0.tar.gz (6.8 kB)\n",
            "  Preparing metadata (setup.py) ... \u001b[?25l\u001b[?25hdone\n",
            "Building wheels for collected packages: ColabTurtle\n",
            "  Building wheel for ColabTurtle (setup.py) ... \u001b[?25l\u001b[?25hdone\n",
            "  Created wheel for ColabTurtle: filename=ColabTurtle-2.1.0-py3-none-any.whl size=7643 sha256=de8c98ff8faea46b2bb74cf2ff0c841ce6293637f0cdf7e6c595a365469097f9\n",
            "  Stored in directory: /root/.cache/pip/wheels/9f/af/64/ffd85f9858ed7d56b7293dcedbc9d461bf13c8cfc97e352bc8\n",
            "Successfully built ColabTurtle\n",
            "Installing collected packages: ColabTurtle\n",
            "Successfully installed ColabTurtle-2.1.0\n"
          ]
        }
      ],
      "source": [
        "!pip3 install ColabTurtle"
      ]
    },
    {
      "cell_type": "code",
      "source": [
        "from ColabTurtle.Turtle import *"
      ],
      "metadata": {
        "id": "f6aqt2lrEqbA"
      },
      "execution_count": 2,
      "outputs": []
    },
    {
      "cell_type": "code",
      "source": [
        "initializeTurtle(initial_speed=4, initial_window_size=(800,500))\n",
        "\n",
        "color('red')\n",
        "speed(10)\n",
        "penup()\n",
        "goto(300, 250)\n",
        "pendown()\n",
        "\n",
        "## First concave\n",
        "for i in range(9):\n",
        "    forward(17)\n",
        "    right(20)\n",
        "penup()\n",
        "left(90+70)\n",
        "pendown()\n",
        "## Second concave\n",
        "for i in range(10):\n",
        "    forward(17)\n",
        "    right(20)\n",
        "## First Line of the triangle\n",
        "right(10)\n",
        "forward(120)\n",
        "left(-80)\n",
        "forward(120)\n",
        "left(-35)\n",
        "forward(17)\n",
        "\n",
        "\n",
        "penup()\n",
        "goto(200, 250)\n",
        "pendown()"
      ],
      "metadata": {
        "colab": {
          "base_uri": "https://localhost:8080/",
          "height": 521
        },
        "id": "9KYFROqLEuwX",
        "outputId": "77750f4a-c0eb-44e2-c25c-ec4ed4bab0b4"
      },
      "execution_count": 46,
      "outputs": [
        {
          "output_type": "display_data",
          "data": {
            "text/plain": [
              "<IPython.core.display.HTML object>"
            ],
            "text/html": [
              "\n",
              "      <svg width=\"800\" height=\"500\">\n",
              "        <rect width=\"100%\" height=\"100%\" fill=\"black\"/>\n",
              "        <line x1=\"300\" y1=\"250\" x2=\"300.0\" y2=\"233.0\" stroke-linecap=\"round\" style=\"stroke:red;stroke-width:4\"/><line x1=\"300.0\" y1=\"233.0\" x2=\"305.814\" y2=\"217.025\" stroke-linecap=\"round\" style=\"stroke:red;stroke-width:4\"/><line x1=\"305.814\" y1=\"217.025\" x2=\"316.741\" y2=\"204.002\" stroke-linecap=\"round\" style=\"stroke:red;stroke-width:4\"/><line x1=\"316.741\" y1=\"204.002\" x2=\"331.463\" y2=\"195.502\" stroke-linecap=\"round\" style=\"stroke:red;stroke-width:4\"/><line x1=\"331.463\" y1=\"195.502\" x2=\"348.205\" y2=\"192.55\" stroke-linecap=\"round\" style=\"stroke:red;stroke-width:4\"/><line x1=\"348.205\" y1=\"192.55\" x2=\"364.947\" y2=\"195.502\" stroke-linecap=\"round\" style=\"stroke:red;stroke-width:4\"/><line x1=\"364.947\" y1=\"195.502\" x2=\"379.669\" y2=\"204.002\" stroke-linecap=\"round\" style=\"stroke:red;stroke-width:4\"/><line x1=\"379.669\" y1=\"204.002\" x2=\"390.596\" y2=\"217.025\" stroke-linecap=\"round\" style=\"stroke:red;stroke-width:4\"/><line x1=\"390.596\" y1=\"217.025\" x2=\"396.41\" y2=\"233.0\" stroke-linecap=\"round\" style=\"stroke:red;stroke-width:4\"/><line x1=\"396.41\" y1=\"233.0\" x2=\"402.224\" y2=\"217.025\" stroke-linecap=\"round\" style=\"stroke:red;stroke-width:4\"/><line x1=\"402.224\" y1=\"217.025\" x2=\"413.151\" y2=\"204.002\" stroke-linecap=\"round\" style=\"stroke:red;stroke-width:4\"/><line x1=\"413.151\" y1=\"204.002\" x2=\"427.873\" y2=\"195.502\" stroke-linecap=\"round\" style=\"stroke:red;stroke-width:4\"/><line x1=\"427.873\" y1=\"195.502\" x2=\"444.615\" y2=\"192.55\" stroke-linecap=\"round\" style=\"stroke:red;stroke-width:4\"/><line x1=\"444.615\" y1=\"192.55\" x2=\"461.357\" y2=\"195.502\" stroke-linecap=\"round\" style=\"stroke:red;stroke-width:4\"/><line x1=\"461.357\" y1=\"195.502\" x2=\"476.079\" y2=\"204.002\" stroke-linecap=\"round\" style=\"stroke:red;stroke-width:4\"/><line x1=\"476.079\" y1=\"204.002\" x2=\"487.006\" y2=\"217.025\" stroke-linecap=\"round\" style=\"stroke:red;stroke-width:4\"/><line x1=\"487.006\" y1=\"217.025\" x2=\"492.82\" y2=\"233.0\" stroke-linecap=\"round\" style=\"stroke:red;stroke-width:4\"/><line x1=\"492.82\" y1=\"233.0\" x2=\"492.82\" y2=\"250.0\" stroke-linecap=\"round\" style=\"stroke:red;stroke-width:4\"/><line x1=\"492.82\" y1=\"250.0\" x2=\"487.006\" y2=\"265.975\" stroke-linecap=\"round\" style=\"stroke:red;stroke-width:4\"/><line x1=\"487.006\" y1=\"265.975\" x2=\"395.081\" y2=\"343.11\" stroke-linecap=\"round\" style=\"stroke:red;stroke-width:4\"/><line x1=\"395.081\" y1=\"343.11\" x2=\"303.156\" y2=\"265.975\" stroke-linecap=\"round\" style=\"stroke:red;stroke-width:4\"/><line x1=\"303.156\" y1=\"265.975\" x2=\"298.756\" y2=\"249.554\" stroke-linecap=\"round\" style=\"stroke:red;stroke-width:4\"/>\n",
              "        <g visibility=visible transform=\"rotate(345,200,250) translate(182, 232)\">\n",
              "<path style=\" stroke:none;fill-rule:evenodd;fill:red;fill-opacity:1;\" d=\"M 18.214844 0.632812 C 16.109375 1.800781 15.011719 4.074219 15.074219 7.132812 L 15.085938 7.652344 L 14.785156 7.496094 C 13.476562 6.824219 11.957031 6.671875 10.40625 7.066406 C 8.46875 7.550781 6.515625 9.15625 4.394531 11.992188 C 3.0625 13.777344 2.679688 14.636719 3.042969 15.027344 L 3.15625 15.152344 L 3.519531 15.152344 C 4.238281 15.152344 4.828125 14.886719 8.1875 13.039062 C 9.386719 12.378906 10.371094 11.839844 10.378906 11.839844 C 10.386719 11.839844 10.355469 11.929688 10.304688 12.035156 C 9.832031 13.09375 9.257812 14.820312 8.96875 16.078125 C 7.914062 20.652344 8.617188 24.53125 11.070312 27.660156 C 11.351562 28.015625 11.363281 27.914062 10.972656 28.382812 C 8.925781 30.84375 7.945312 33.28125 8.238281 35.1875 C 8.289062 35.527344 8.28125 35.523438 8.917969 35.523438 C 10.941406 35.523438 13.074219 34.207031 15.136719 31.6875 C 15.359375 31.417969 15.328125 31.425781 15.5625 31.574219 C 16.292969 32.042969 18.023438 32.964844 18.175781 32.964844 C 18.335938 32.964844 19.941406 32.210938 20.828125 31.71875 C 20.996094 31.625 21.136719 31.554688 21.136719 31.558594 C 21.203125 31.664062 21.898438 32.414062 22.222656 32.730469 C 23.835938 34.300781 25.5625 35.132812 27.582031 35.300781 C 27.90625 35.328125 27.9375 35.308594 28.007812 34.984375 C 28.382812 33.242188 27.625 30.925781 25.863281 28.425781 L 25.542969 27.96875 L 25.699219 27.785156 C 28.945312 23.960938 29.132812 18.699219 26.257812 11.96875 L 26.207031 11.84375 L 27.945312 12.703125 C 31.53125 14.476562 32.316406 14.800781 33.03125 14.800781 C 33.976562 14.800781 33.78125 13.9375 32.472656 12.292969 C 28.519531 7.355469 25.394531 5.925781 21.921875 7.472656 L 21.558594 7.636719 L 21.578125 7.542969 C 21.699219 6.992188 21.761719 5.742188 21.699219 5.164062 C 21.496094 3.296875 20.664062 1.964844 19.003906 0.855469 C 18.480469 0.503906 18.457031 0.5 18.214844 0.632812\"/>\n",
              "</g>\n",
              "      </svg>\n",
              "    "
            ]
          },
          "metadata": {}
        }
      ]
    },
    {
      "cell_type": "code",
      "source": [],
      "metadata": {
        "id": "uwjyENKXExnm"
      },
      "execution_count": null,
      "outputs": []
    }
  ]
}